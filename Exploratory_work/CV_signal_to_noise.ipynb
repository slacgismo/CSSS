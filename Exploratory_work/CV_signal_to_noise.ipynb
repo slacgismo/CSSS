{
 "cells": [
  {
   "cell_type": "markdown",
   "metadata": {},
   "source": [
    "# Error metrics (CV) as a function of the signal to noise ratio\n",
    "In this NoteBook the main objective is to assess the error metric as a function of the signal to noise ratio"
   ]
  },
  {
   "cell_type": "code",
   "execution_count": 2,
   "metadata": {},
   "outputs": [],
   "source": [
    "import sys\n",
    "sys.path.append(\"..\") # Adds higher directory to python modules path.\n",
    "from copy import deepcopy\n",
    "import matplotlib.pyplot as plt\n",
    "import numpy as np\n",
    "import pandas as pd\n",
    "import csss\n",
    "import matplotlib.pyplot as plt\n",
    "import datetime as dt\n",
    "import pickle as pk\n",
    "from imp import reload\n",
    "import copy\n",
    "from time import time as t_clock\n",
    "from copy import deepcopy\n",
    "import seaborn as sns\n",
    "from csss.SolarDisagg import createTempInput\n",
    "from csss.utilities import Setup_load as SetUp_load, unique_list,load_pkl\n"
   ]
  },
  {
   "cell_type": "markdown",
   "metadata": {},
   "source": [
    "Loading Load and Weather data. Cleaning the data and updating."
   ]
  },
  {
   "cell_type": "code",
   "execution_count": 11,
   "metadata": {},
   "outputs": [
    {
     "name": "stdout",
     "output_type": "stream",
     "text": [
      "reading 61047030 values from csv took 7.69 seconds\n",
      "There are 167 homes with complete data\n",
      "105 homes solar\n",
      "62 homes with no solar\n"
     ]
    }
   ],
   "source": [
    "#%% Loading the data\n",
    "Setup_load = deepcopy(SetUp_load())\n",
    "Setup_load.QueryOrLoad()\n",
    "load_data, load_data_2, weather, grouped_data, ids, solar_ids, homeids  = Setup_load.load_setup()\n",
    "#%% Remove those solar houses that have generation = 0 for continous N_obs.\n",
    "N_obs_day = 96 # number of observations in one day.\n",
    "N_obs = 3*N_obs_day\n",
    "remove = []\n",
    "for i in solar_ids['solar']:\n",
    "    df = grouped_data.get_group(i)\n",
    "    roll_mean = df.gen.rolling(N_obs).mean()\n",
    "    if np.nansum(roll_mean < 0.001) > 0:\n",
    "        remove.append(i)\n",
    "len(remove)\n",
    "\n",
    "## Update the data accordingly\n",
    "ids = list(set(ids) - set(remove))\n",
    "load_data = load_data[~load_data['dataid'].isin(remove)]\n",
    "solar_ids['solar'] = list(set(solar_ids['solar']) - set(remove))\n",
    "solar_ids['nosolar'] = list(set(solar_ids['nosolar']) - set(remove))\n",
    "grouped_data = load_data.groupby(\"dataid\")"
   ]
  },
  {
   "cell_type": "markdown",
   "metadata": {},
   "source": [
    "Loading the results"
   ]
  },
  {
   "cell_type": "code",
   "execution_count": 4,
   "metadata": {},
   "outputs": [],
   "source": [
    "## 30 days chunks\n",
    "fp = 'Validarion/data/results_sd_1year_scen_out_30days_chunck.pkl'\n",
    "def generate_df_res(fp):\n",
    "    \n",
    "    with open(fp,\"rb\") as f:    \n",
    "       scen_out,df_out,N_proxy,rs = pk.load(f)\n",
    "    DFout = pd.DataFrame()\n",
    "    months = np.arange(1,13)\n",
    "#    months = np.arange(1,36)\n",
    "    for m in months:\n",
    "        if isinstance(df_out[(1,67,m)], pd.DataFrame):\n",
    "            DFout = pd.concat([DFout,df_out[(1,67,m)]])\n",
    "        \n",
    "    ## calculate average cv_pos across the year\n",
    "    \n",
    "    ids = DFout.index.levels[0][1:]\n",
    "    N_houses = DFout.index.levels[1][0]\n",
    "    n_scen = DFout.index.levels[3]\n",
    "    models = DFout.index.levels[2]\n",
    "    df_res_30 = pd.Series(index = ids)#, columns = ['res_30'])\n",
    "    \n",
    "    for idd in ids:\n",
    "        generation = deepcopy(grouped_data.get_group(idd).gen[grouped_data.get_group(idd).index < '2016-01-01']) \n",
    "        gm = generation[generation > 0.05*generation.mean()].mean()\n",
    "        df_res_30.loc[idd] = np.abs(np.mean(DFout.loc[(idd,N_houses,models[2],n_scen)]['rmse_pos']))/gm \n",
    "    return df_res_30\n",
    "df_res_30 = generate_df_res(fp)\n"
   ]
  },
  {
   "cell_type": "code",
   "execution_count": 5,
   "metadata": {},
   "outputs": [
    {
     "name": "stderr",
     "output_type": "stream",
     "text": [
      "C:\\Users\\inno1\\Anaconda3\\envs\\SolarDisaggregation\\lib\\site-packages\\ipykernel_launcher.py:20: UserWarning: Boolean Series key will be reindexed to match DataFrame index.\n",
      "C:\\Users\\inno1\\Anaconda3\\envs\\SolarDisaggregation\\lib\\site-packages\\ipykernel_launcher.py:20: UserWarning: Boolean Series key will be reindexed to match DataFrame index.\n",
      "C:\\Users\\inno1\\Anaconda3\\envs\\SolarDisaggregation\\lib\\site-packages\\ipykernel_launcher.py:20: UserWarning: Boolean Series key will be reindexed to match DataFrame index.\n"
     ]
    }
   ],
   "source": [
    "## 1 year data\n",
    "fp = 'Validarion/data/results_sd_1year.pkl'\n",
    "with open(fp,\"rb\") as f:\n",
    "    df_out,N_proxy_vec,rs_vec = pk.load(f)\n",
    "df_out = df_out[(1,67)]\n",
    "\n",
    "## dataframe generation\n",
    "def get_1year_df(metric,df_out):\n",
    "    ids = df_out.index.levels[0][1:]\n",
    "    N_houses = df_out.index.levels[1][0]\n",
    "    n_scen = df_out.index.levels[3][0]\n",
    "    models = df_out.index.levels[2]\n",
    "    model = 'tune_std'\n",
    "    metric = metric\n",
    "    index = unique_list(df_out[df_out['istunesys'] == False].index.get_level_values('dataid'))\n",
    "    index.remove(0)\n",
    "    df_res = pd.DataFrame(index = index, columns = models)\n",
    "    for i in range(len(models)):\n",
    "        model = models[i]    \n",
    "        df_res.loc[:,model] = df_out.loc[(ids,N_houses,model,n_scen)][df_out['istunesys'] == False][metric].values\n",
    "    if metric == 'mbe_pos':\n",
    "        for idd in df_res.index:\n",
    "            generation = deepcopy(grouped_data.get_group(idd).gen[grouped_data.get_group(idd).index < '2016-01-01']) \n",
    "            gm = generation[generation > 0.05*generation.mean()].mean()\n",
    "            df_res.loc[idd] = df_res.loc[idd]/gm \n",
    "\n",
    "    if metric in ['cv_pos','cv'] :\n",
    "        df_res = np.abs(df_res)\n",
    "    df_res_year = deepcopy(df_res['tune_std'])\n",
    "    ids = df_res_year.index\n",
    "    return df_res_year,ids\n",
    "metric = 'mbe_pos'\n",
    "df_res_year,ids = get_1year_df(metric,df_out)"
   ]
  },
  {
   "cell_type": "markdown",
   "metadata": {},
   "source": [
    "Real SNR : Signal/Noise ratio"
   ]
  },
  {
   "cell_type": "code",
   "execution_count": 88,
   "metadata": {},
   "outputs": [],
   "source": [
    "snr = pd.Series(index = ids)\n",
    "for idd in ids:\n",
    "    df_actual = grouped_data.get_group(idd)\n",
    "    df_actual = df_actual[df_actual.index < '2016-01-01']\n",
    "    mask = df_actual['gen'] > 0.05*df_actual['gen'].mean()\n",
    "    snr.loc[idd] = np.square(np.linalg.norm(df_actual.gen[mask],2)/np.linalg.norm(df_actual.use[mask],2))"
   ]
  },
  {
   "cell_type": "code",
   "execution_count": 89,
   "metadata": {},
   "outputs": [
    {
     "name": "stderr",
     "output_type": "stream",
     "text": [
      "C:\\Users\\inno1\\Anaconda3\\envs\\SolarDisaggregation\\lib\\site-packages\\ipykernel_launcher.py:20: UserWarning: Boolean Series key will be reindexed to match DataFrame index.\n",
      "C:\\Users\\inno1\\Anaconda3\\envs\\SolarDisaggregation\\lib\\site-packages\\ipykernel_launcher.py:20: UserWarning: Boolean Series key will be reindexed to match DataFrame index.\n",
      "C:\\Users\\inno1\\Anaconda3\\envs\\SolarDisaggregation\\lib\\site-packages\\ipykernel_launcher.py:20: UserWarning: Boolean Series key will be reindexed to match DataFrame index.\n"
     ]
    },
    {
     "data": {
      "image/png": "[encoded data removed]",
      "text/plain": [
       "<Figure size 432x288 with 1 Axes>"
      ]
     },
     "metadata": {
      "needs_background": "light"
     },
     "output_type": "display_data"
    }
   ],
   "source": [
    "## CV Vs. snr\n",
    "df_res_year,ids = get_1year_df('cv_pos',df_out)\n",
    "plt.figure()\n",
    "fts = 16\n",
    "plt.scatter(snr,df_res_year, label = '')\n",
    "plt.plot(snr,np.repeat(df_res_year.mean(), len(snr)), color = 'red', label = 'mean')\n",
    "plt.grid(True)\n",
    "plt.xlabel('SNR', fontsize = fts)\n",
    "plt.ylabel('CV',fontsize = fts)\n",
    "plt.legend()\n",
    "plt.ylim([0,1.6])\n",
    "# plt.show()\n",
    "plt.savefig('figures/CV_1year_snr.png',bbox = 'tight')"
   ]
  },
  {
   "cell_type": "code",
   "execution_count": 90,
   "metadata": {},
   "outputs": [
    {
     "name": "stderr",
     "output_type": "stream",
     "text": [
      "C:\\Users\\inno1\\Anaconda3\\envs\\SolarDisaggregation\\lib\\site-packages\\ipykernel_launcher.py:20: UserWarning: Boolean Series key will be reindexed to match DataFrame index.\n",
      "C:\\Users\\inno1\\Anaconda3\\envs\\SolarDisaggregation\\lib\\site-packages\\ipykernel_launcher.py:20: UserWarning: Boolean Series key will be reindexed to match DataFrame index.\n",
      "C:\\Users\\inno1\\Anaconda3\\envs\\SolarDisaggregation\\lib\\site-packages\\ipykernel_launcher.py:20: UserWarning: Boolean Series key will be reindexed to match DataFrame index.\n"
     ]
    },
    {
     "data": {
      "image/png": "[encoded data removed]",
      "text/plain": [
       "<Figure size 432x288 with 1 Axes>"
      ]
     },
     "metadata": {
      "needs_background": "light"
     },
     "output_type": "display_data"
    }
   ],
   "source": [
    "## Plot Mean Percentage Error Vs. snr\n",
    "df_res_year,ids = get_1year_df('mbe_pos',df_out)\n",
    "plt.figure()\n",
    "fts = 16\n",
    "plt.scatter(snr,df_res_year, label = '')\n",
    "plt.plot(snr,np.repeat(df_res_year.mean(), len(snr)), color = 'red', label = 'mean')\n",
    "plt.grid(True)\n",
    "plt.xlabel('SNR', fontsize = fts)\n",
    "plt.ylabel('mpe',fontsize = fts)\n",
    "plt.legend()\n",
    "# plt.ylim([0,1.6])\n",
    "# plt.show()\n",
    "plt.savefig('figures/mpe_1year_snr.png',bbox = 'tight')"
   ]
  },
  {
   "cell_type": "markdown",
   "metadata": {},
   "source": [
    "### Comment: \n",
    "(percentage is still refered to the mean of solar generation excluding nighttime values.)\n",
    "Mean Percentage Error decreases a little bit with snr and it has almost zero mean. I was expeting that almost all the error in CV is explained by the bias error. It would be interesting to compare the difference cv-mbe for each idd. "
   ]
  },
  {
   "cell_type": "code",
   "execution_count": 91,
   "metadata": {},
   "outputs": [
    {
     "name": "stderr",
     "output_type": "stream",
     "text": [
      "C:\\Users\\inno1\\Anaconda3\\envs\\SolarDisaggregation\\lib\\site-packages\\ipykernel_launcher.py:20: UserWarning: Boolean Series key will be reindexed to match DataFrame index.\n",
      "C:\\Users\\inno1\\Anaconda3\\envs\\SolarDisaggregation\\lib\\site-packages\\ipykernel_launcher.py:20: UserWarning: Boolean Series key will be reindexed to match DataFrame index.\n",
      "C:\\Users\\inno1\\Anaconda3\\envs\\SolarDisaggregation\\lib\\site-packages\\ipykernel_launcher.py:20: UserWarning: Boolean Series key will be reindexed to match DataFrame index.\n",
      "C:\\Users\\inno1\\Anaconda3\\envs\\SolarDisaggregation\\lib\\site-packages\\ipykernel_launcher.py:20: UserWarning: Boolean Series key will be reindexed to match DataFrame index.\n",
      "C:\\Users\\inno1\\Anaconda3\\envs\\SolarDisaggregation\\lib\\site-packages\\ipykernel_launcher.py:20: UserWarning: Boolean Series key will be reindexed to match DataFrame index.\n",
      "C:\\Users\\inno1\\Anaconda3\\envs\\SolarDisaggregation\\lib\\site-packages\\ipykernel_launcher.py:20: UserWarning: Boolean Series key will be reindexed to match DataFrame index.\n"
     ]
    },
    {
     "data": {
      "text/plain": [
       "Text(0, 0.5, 'pmae - pmbe')"
      ]
     },
     "execution_count": 91,
     "metadata": {},
     "output_type": "execute_result"
    },
    {
     "data": {
      "image/png": "[encoded data removed]",
      "text/plain": [
       "<Figure size 432x288 with 1 Axes>"
      ]
     },
     "metadata": {
      "needs_background": "light"
     },
     "output_type": "display_data"
    }
   ],
   "source": [
    "df_res_year,ids = get_1year_df('pmae_pos',df_out)\n",
    "df_res_year_bias,ids = get_1year_df('mbe_pos',df_out)\n",
    "plt.scatter(ids,-df_res_year-np.abs(df_res_year_bias)) # there is a negative sign on the pmae because the generation is taken as negative in the results\n",
    "plt.plot(ids,np.repeat((-df_res_year-np.abs(df_res_year_bias)).mean(), len(snr)), color = 'red', label = 'mean')\n",
    "plt.grid(True)\n",
    "plt.xlabel('ids')\n",
    "plt.ylabel('pmae - pmbe')"
   ]
  },
  {
   "cell_type": "markdown",
   "metadata": {},
   "source": [
    "### Comment: \n",
    "(percentage is still refered to the mean of solar generation excluding nighttime values.)\n",
    "I was expeting that almost all the error in MAE is explained by the bias error, due to attributing the wrong scaling factor. Instead there is an additive 10% on average. Could it be that the tuning alpha gets it weird sometimes? Not sure.\n"
   ]
  },
  {
   "cell_type": "markdown",
   "metadata": {},
   "source": [
    "### Estimated SNR : Signal/Noise ratio"
   ]
  },
  {
   "cell_type": "code",
   "execution_count": 92,
   "metadata": {},
   "outputs": [],
   "source": [
    "# 1 year\n",
    "scen_out = load_pkl('Validarion/data/results_sd_1year_scen_out.pkl')[0]"
   ]
  },
  {
   "cell_type": "code",
   "execution_count": 95,
   "metadata": {},
   "outputs": [],
   "source": [
    "snr_est = pd.Series(index = ids)\n",
    "k=0\n",
    "for idd in ids:\n",
    "    df_actual = grouped_data.get_group(idd)\n",
    "    df_actual = df_actual[df_actual.index < '2016-01-01']\n",
    "#     mask = df_actual['gen'] > 0.05*df_actual['gen'].mean()\n",
    "    solar_signal_est = -np.squeeze(np.asarray(scen_out['tuned_model_std'][idd]['source'].value))\n",
    "    mask = solar_signal_est > 0.05*solar_signal_est.mean()\n",
    "    solar_signal_est = solar_signal_est[mask] \n",
    "    use_signal_est   = df_actual['netload'].values[mask] + solar_signal_est\n",
    "    snr_est.loc[idd] = np.square(np.linalg.norm(solar_signal_est,2)/np.linalg.norm(use_signal_est,2))"
   ]
  },
  {
   "cell_type": "code",
   "execution_count": 97,
   "metadata": {},
   "outputs": [
    {
     "data": {
      "image/png": "[encoded data removed]",
      "text/plain": [
       "<Figure size 432x288 with 1 Axes>"
      ]
     },
     "metadata": {
      "needs_background": "light"
     },
     "output_type": "display_data"
    }
   ],
   "source": [
    "plt.close()\n",
    "plt.figure()\n",
    "fts = 16\n",
    "plt.scatter(snr,snr_est)\n",
    "plt.plot(snr,snr,color = 'red')\n",
    "plt.grid(True)\n",
    "plt.xlabel('SNR', fontsize = fts)\n",
    "plt.ylabel('SNR_est',fontsize = fts)\n",
    "# plt.show()\n",
    "plt.savefig('figures/SNR_est_SNR.png',bbox = 'tight')"
   ]
  }
 ],
 "metadata": {
  "kernelspec": {
   "display_name": "Python 3",
   "language": "python",
   "name": "python3"
  },
  "language_info": {
   "codemirror_mode": {
    "name": "ipython",
    "version": 3
   },
   "file_extension": ".py",
   "mimetype": "text/x-python",
   "name": "python",
   "nbconvert_exporter": "python",
   "pygments_lexer": "ipython3",
   "version": "3.6.7"
  }
 },
 "nbformat": 4,
 "nbformat_minor": 2
}
