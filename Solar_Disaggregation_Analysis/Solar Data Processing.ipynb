{
 "cells": [
  {
   "cell_type": "code",
   "execution_count": 1,
   "metadata": {},
   "outputs": [],
   "source": [
    "import sys\n",
    "sys.path.append(\"..\") # Adds higher directory to python modules path.\n",
    "\n",
    "\n",
    "import numpy as np\n",
    "import pandas as pd\n",
    "import csss as CSSS\n",
    "import sqlalchemy as sq\n",
    "import matplotlib.pyplot as plt\n",
    "import pytz\n",
    "import datetime as dt\n",
    "import pickle as pk\n",
    "\n",
    "% matplotlib inline"
   ]
  },
  {
   "cell_type": "code",
   "execution_count": 2,
   "metadata": {},
   "outputs": [],
   "source": [
    "## Close any open connections. \n",
    "import gc\n",
    "for obj in gc.get_objects():\n",
    "    if isinstance(obj, sq.engine.base.Engine):\n",
    "        obj.dispose()\n",
    "        \n",
    "## Read key for PecanSt, Stored in text file\n",
    "with open('../keys/pecanstkey.txt','r') as f:\n",
    "    key = f.read().strip()\n",
    "    f.close()\n",
    "    \n",
    "    \n",
    "## Create engine\n",
    "# engine = sq.create_engine(\"postgresql+psycopg2://%s@dataport.pecanstreet.org:5434/postgres\" % key)\n",
    "engine = sq.create_engine(\"postgresql+psycopg2://{}@dataport.pecanstreet.org:5434/postgres\".format(key))"
   ]
  },
  {
   "cell_type": "markdown",
   "metadata": {},
   "source": [
    "## Identify homes with complete data from Pecan Street\n",
    "Isolate dates in 2015 and 2016"
   ]
  },
  {
   "cell_type": "code",
   "execution_count": 3,
   "metadata": {},
   "outputs": [],
   "source": [
    "query=\"\"\"SELECT dataid, count(*) FROM university.electricity_egauge_15min\n",
    "WHERE local_15min\n",
    "BETWEEN '01-01-2015' AND '01-01-2017' GROUP BY dataid \"\"\"\n",
    "datacounts = pd.read_sql_query(query,engine)"
   ]
  },
  {
   "cell_type": "code",
   "execution_count": 4,
   "metadata": {},
   "outputs": [],
   "source": [
    "c = np.max(datacounts['count'])\n",
    "duse = np.array(datacounts.loc[datacounts['count'] >= c,'dataid'])"
   ]
  },
  {
   "cell_type": "code",
   "execution_count": 5,
   "metadata": {},
   "outputs": [],
   "source": [
    "query = \"SELECT * from university.metadata\"\n",
    "metadata0 = pd.read_sql_query(query, engine)\n",
    "metadata = metadata0[['dataid','city']].merge(datacounts)\n",
    "metadata.head()\n",
    "use = (datacounts['count'] >= c ) & (metadata['city'] == 'Austin')\n",
    "duse = np.array(metadata.loc[use ,'dataid'])"
   ]
  },
  {
   "cell_type": "code",
   "execution_count": 6,
   "metadata": {},
   "outputs": [
    {
     "data": {
      "text/plain": [
       "array([7057, 3192, 2575, 1192, 1718, 2018, 2335, 2638, 2814, 2859, 3009,\n",
       "       3039, 3918, 3967, 4031, 4336, 5403, 6423, 7024, 7536, 7731, 7940,\n",
       "       8829, 9121, 9729, 4922, 1994, 2156, 2004, 2365, 2787, 3531, 4220,\n",
       "       4298, 7390, 8092, 8142, 4302, 9631, 6643, 5892, 8741, 2829, 6636,\n",
       "         94,  739, 1589, 1714, 2171, 5810, 5949, 6673, 7361, 7531, 7769,\n",
       "       7866, 8031, 9915, 9926, 9929, 9934, 9937, 9938, 9939, 1153,  121,\n",
       "        861,  364, 5817, 9773, 4505, 8155, 2755, 1403, 1697, 1283, 1792,\n",
       "       3527, 3635, 3723, 4193, 4373, 4732, 5129, 5796, 7627, 7741, 7800,\n",
       "       7900, 7965, 8156, 9971, 6498, 7117, 8059, 1791, 2072, 4514, 8086,\n",
       "       8419, 9248, 7641, 8292, 9875, 6121, 4946, 3500, 4957, 4213, 2242,\n",
       "       4575, 3036, 3829, 9771,  580, 9701, 6072,  160, 9578, 2769, 2034,\n",
       "       3893, 6412, 7287, 9295, 8565, 5109, 3652, 8589, 8645, 3044, 5658,\n",
       "       3506, 3649, 5889, 8046, 2532,  347, 3411, 6500, 7527,  135, 4042,\n",
       "        772, 5539, 1105, 1889, 5060, 5317,  878, 7512, 1577, 6165, 5778,\n",
       "       4776, 8183, 7436, 3873, 7549, 1037,  645, 1310, 3273, 2401, 4022,\n",
       "       4053,  115, 4633, 8029,  507, 5087, 2751,   68, 3519, 5252, 5552,\n",
       "       2992,  470, 6061, 7787, 1586, 2458, 3413,  980, 6125, 6688, 2207,\n",
       "       7638, 6911, 4375, 4473, 9001, 5749, 9670, 3676, 5784, 9434, 1832,\n",
       "        483, 9235, 8730, 1354, 3215, 8198], dtype=int64)"
      ]
     },
     "execution_count": 6,
     "metadata": {},
     "output_type": "execute_result"
    }
   ],
   "source": [
    "duse"
   ]
  },
  {
   "cell_type": "markdown",
   "metadata": {},
   "source": [
    "## Daylight Savings Time\n",
    "It appears that pecan street consistently drops one hour each year when daylight savings time ends. At the onset of DST, the local time skips from 1:45 to 3:00 as it should. At the conclusion of DST, there are no additional 2am readings. Possibly this is an artifact of only the 15-minute data. "
   ]
  },
  {
   "cell_type": "code",
   "execution_count": 7,
   "metadata": {},
   "outputs": [
    {
     "name": "stdout",
     "output_type": "stream",
     "text": [
      "0:41:40.119640\n"
     ]
    }
   ],
   "source": [
    "## Get data from all homes with complete data (about 300)\n",
    "tstart = dt.datetime.now()\n",
    "query=\"\"\"SELECT dataid, local_15min, use, gen, air1, air2, air3, airwindowunit1, furnace1, furnace2 \n",
    "FROM university.electricity_egauge_15min\n",
    "WHERE local_15min\n",
    "BETWEEN '01-01-2015' AND '01-01-2016' AND electricity_egauge_15min.dataid in (\"\"\" + \\\n",
    "','.join([str(d) for d in duse]) + \\\n",
    "\"\"\");\"\"\"\n",
    "\n",
    "the_frame = pd.read_sql_query(query,engine)\n",
    "the_frame.sort_values('local_15min')\n",
    "the_frame.tail()\n",
    "print(dt.datetime.now() - tstart)"
   ]
  },
  {
   "cell_type": "code",
   "execution_count": 41,
   "metadata": {},
   "outputs": [],
   "source": [
    "## Localize the time and add a date column. \n",
    "the_frame[\"time\"] = the_frame.set_index(\"local_15min\").index.tz_localize(pytz.timezone('America/Chicago'), ambiguous = True)\n",
    "the_frame[\"date\"] = [ dt.datetime(d.year,d.month,d.day,0,0,0,0) for d in the_frame['time'] ]\n"
   ]
  },
  {
   "cell_type": "code",
   "execution_count": 42,
   "metadata": {},
   "outputs": [
    {
     "data": {
      "text/plain": [
       "<DstTzInfo 'America/Chicago' LMT-1 day, 18:09:00 STD>"
      ]
     },
     "execution_count": 42,
     "metadata": {},
     "output_type": "execute_result"
    }
   ],
   "source": [
    "pytz.timezone('America/Chicago')"
   ]
  },
  {
   "cell_type": "code",
   "execution_count": 43,
   "metadata": {
    "collapsed": true
   },
   "outputs": [],
   "source": [
    "loaddata = the_frame\n",
    "loaddata[\"time\"] = loaddata.set_index(\"local_15min\").index.tz_localize(pytz.timezone('America/Chicago'), ambiguous = True)\n",
    "loaddata[\"date\"] = [ dt.datetime(d.year,d.month,d.day,0,0,0,0) for d in loaddata['time'] ]\n",
    "\n",
    "## Dump as a pickle file. \n",
    "import pickle as pk\n",
    "pk.dump( loaddata, open( \"data/demand.pkl\", \"wb\" ) )"
   ]
  },
  {
   "cell_type": "markdown",
   "metadata": {},
   "source": [
    "## Weather Data\n",
    "Weather data are from three locations: Austin, Boulder and San Diego.  There is no way to tell which home is in each location.  I will label and keep all of them."
   ]
  },
  {
   "cell_type": "code",
   "execution_count": 44,
   "metadata": {},
   "outputs": [
    {
     "data": {
      "text/html": [
       "<div>\n",
       "<style>\n",
       "    .dataframe thead tr:only-child th {\n",
       "        text-align: right;\n",
       "    }\n",
       "\n",
       "    .dataframe thead th {\n",
       "        text-align: left;\n",
       "    }\n",
       "\n",
       "    .dataframe tbody tr th {\n",
       "        vertical-align: top;\n",
       "    }\n",
       "</style>\n",
       "<table border=\"1\" class=\"dataframe\">\n",
       "  <thead>\n",
       "    <tr style=\"text-align: right;\">\n",
       "      <th></th>\n",
       "      <th>row</th>\n",
       "      <th>latitude</th>\n",
       "      <th>Location</th>\n",
       "    </tr>\n",
       "  </thead>\n",
       "  <tbody>\n",
       "    <tr>\n",
       "      <th>0</th>\n",
       "      <td>(30.292432,-97.699662)</td>\n",
       "      <td>30.292432</td>\n",
       "      <td>Austin</td>\n",
       "    </tr>\n",
       "    <tr>\n",
       "      <th>1</th>\n",
       "      <td>(32.778033,-117.151885)</td>\n",
       "      <td>32.778033</td>\n",
       "      <td>San Diego</td>\n",
       "    </tr>\n",
       "    <tr>\n",
       "      <th>2</th>\n",
       "      <td>(40.027278,-105.256111)</td>\n",
       "      <td>40.027278</td>\n",
       "      <td>Boulder</td>\n",
       "    </tr>\n",
       "  </tbody>\n",
       "</table>\n",
       "</div>"
      ],
      "text/plain": [
       "                       row   latitude   Location\n",
       "0   (30.292432,-97.699662)  30.292432     Austin\n",
       "1  (32.778033,-117.151885)  32.778033  San Diego\n",
       "2  (40.027278,-105.256111)  40.027278    Boulder"
      ]
     },
     "execution_count": 44,
     "metadata": {},
     "output_type": "execute_result"
    }
   ],
   "source": [
    "locs =pd.read_sql_query(\"\"\"SELECT distinct(latitude,longitude), latitude FROM university.weather LIMIT 10;\"\"\",engine)\n",
    "locs['Location'] = ['Austin','San Diego','Boulder']\n",
    "locs"
   ]
  },
  {
   "cell_type": "code",
   "execution_count": 45,
   "metadata": {},
   "outputs": [],
   "source": [
    "weather = pd.read_sql_query(\"\"\"\n",
    "SELECT * FROM university.weather  \n",
    "WHERE localhour\n",
    "BETWEEN '01-01-2015' AND '01-01-2016'\n",
    ";\n",
    "\"\"\", engine)"
   ]
  },
  {
   "cell_type": "code",
   "execution_count": 46,
   "metadata": {},
   "outputs": [
    {
     "data": {
      "text/html": [
       "<div>\n",
       "<style>\n",
       "    .dataframe thead tr:only-child th {\n",
       "        text-align: right;\n",
       "    }\n",
       "\n",
       "    .dataframe thead th {\n",
       "        text-align: left;\n",
       "    }\n",
       "\n",
       "    .dataframe tbody tr th {\n",
       "        vertical-align: top;\n",
       "    }\n",
       "</style>\n",
       "<table border=\"1\" class=\"dataframe\">\n",
       "  <thead>\n",
       "    <tr style=\"text-align: right;\">\n",
       "      <th></th>\n",
       "      <th>localhour</th>\n",
       "      <th>latitude</th>\n",
       "      <th>longitude</th>\n",
       "      <th>tz_offset</th>\n",
       "      <th>summary</th>\n",
       "      <th>ozone</th>\n",
       "      <th>ozone_error</th>\n",
       "      <th>temperature</th>\n",
       "      <th>temperature_error</th>\n",
       "      <th>dew_point</th>\n",
       "      <th>...</th>\n",
       "      <th>wind_speed</th>\n",
       "      <th>wind_speed_error</th>\n",
       "      <th>cloud_cover</th>\n",
       "      <th>cloud_cover_error</th>\n",
       "      <th>wind_bearing</th>\n",
       "      <th>precip_intensity</th>\n",
       "      <th>precip_intensity_error</th>\n",
       "      <th>precip_probability</th>\n",
       "      <th>precip_type</th>\n",
       "      <th>Location</th>\n",
       "    </tr>\n",
       "  </thead>\n",
       "  <tbody>\n",
       "    <tr>\n",
       "      <th>0</th>\n",
       "      <td>2015-08-23 13:00:00-05:00</td>\n",
       "      <td>40.027278</td>\n",
       "      <td>-105.256111</td>\n",
       "      <td>-6</td>\n",
       "      <td>Clear</td>\n",
       "      <td>287.11</td>\n",
       "      <td>None</td>\n",
       "      <td>67.27</td>\n",
       "      <td>None</td>\n",
       "      <td>41.72</td>\n",
       "      <td>...</td>\n",
       "      <td>2.15</td>\n",
       "      <td>None</td>\n",
       "      <td>0.13</td>\n",
       "      <td>None</td>\n",
       "      <td>66</td>\n",
       "      <td>0.0</td>\n",
       "      <td>None</td>\n",
       "      <td>0.0</td>\n",
       "      <td>None</td>\n",
       "      <td>Boulder</td>\n",
       "    </tr>\n",
       "    <tr>\n",
       "      <th>1</th>\n",
       "      <td>2015-09-06 03:00:00-05:00</td>\n",
       "      <td>40.027278</td>\n",
       "      <td>-105.256111</td>\n",
       "      <td>-6</td>\n",
       "      <td>Clear</td>\n",
       "      <td>276.72</td>\n",
       "      <td>None</td>\n",
       "      <td>65.97</td>\n",
       "      <td>None</td>\n",
       "      <td>43.65</td>\n",
       "      <td>...</td>\n",
       "      <td>2.05</td>\n",
       "      <td>None</td>\n",
       "      <td>0.07</td>\n",
       "      <td>None</td>\n",
       "      <td>269</td>\n",
       "      <td>0.0</td>\n",
       "      <td>None</td>\n",
       "      <td>0.0</td>\n",
       "      <td>None</td>\n",
       "      <td>Boulder</td>\n",
       "    </tr>\n",
       "    <tr>\n",
       "      <th>2</th>\n",
       "      <td>2015-09-25 22:00:00-05:00</td>\n",
       "      <td>40.027278</td>\n",
       "      <td>-105.256111</td>\n",
       "      <td>-6</td>\n",
       "      <td>Clear</td>\n",
       "      <td>263.95</td>\n",
       "      <td>None</td>\n",
       "      <td>63.46</td>\n",
       "      <td>None</td>\n",
       "      <td>41.04</td>\n",
       "      <td>...</td>\n",
       "      <td>0.89</td>\n",
       "      <td>None</td>\n",
       "      <td>0.00</td>\n",
       "      <td>None</td>\n",
       "      <td>160</td>\n",
       "      <td>0.0</td>\n",
       "      <td>None</td>\n",
       "      <td>0.0</td>\n",
       "      <td>None</td>\n",
       "      <td>Boulder</td>\n",
       "    </tr>\n",
       "    <tr>\n",
       "      <th>3</th>\n",
       "      <td>2015-09-25 23:00:00-05:00</td>\n",
       "      <td>40.027278</td>\n",
       "      <td>-105.256111</td>\n",
       "      <td>-6</td>\n",
       "      <td>Clear</td>\n",
       "      <td>262.46</td>\n",
       "      <td>None</td>\n",
       "      <td>61.34</td>\n",
       "      <td>None</td>\n",
       "      <td>41.05</td>\n",
       "      <td>...</td>\n",
       "      <td>0.68</td>\n",
       "      <td>None</td>\n",
       "      <td>0.00</td>\n",
       "      <td>None</td>\n",
       "      <td>220</td>\n",
       "      <td>0.0</td>\n",
       "      <td>None</td>\n",
       "      <td>0.0</td>\n",
       "      <td>None</td>\n",
       "      <td>Boulder</td>\n",
       "    </tr>\n",
       "    <tr>\n",
       "      <th>4</th>\n",
       "      <td>2015-09-26 10:00:00-05:00</td>\n",
       "      <td>40.027278</td>\n",
       "      <td>-105.256111</td>\n",
       "      <td>-6</td>\n",
       "      <td>Clear</td>\n",
       "      <td>248.03</td>\n",
       "      <td>None</td>\n",
       "      <td>60.14</td>\n",
       "      <td>None</td>\n",
       "      <td>39.87</td>\n",
       "      <td>...</td>\n",
       "      <td>0.32</td>\n",
       "      <td>None</td>\n",
       "      <td>0.00</td>\n",
       "      <td>None</td>\n",
       "      <td>43</td>\n",
       "      <td>0.0</td>\n",
       "      <td>None</td>\n",
       "      <td>0.0</td>\n",
       "      <td>None</td>\n",
       "      <td>Boulder</td>\n",
       "    </tr>\n",
       "  </tbody>\n",
       "</table>\n",
       "<p>5 rows × 29 columns</p>\n",
       "</div>"
      ],
      "text/plain": [
       "                   localhour   latitude   longitude  tz_offset summary  \\\n",
       "0  2015-08-23 13:00:00-05:00  40.027278 -105.256111         -6   Clear   \n",
       "1  2015-09-06 03:00:00-05:00  40.027278 -105.256111         -6   Clear   \n",
       "2  2015-09-25 22:00:00-05:00  40.027278 -105.256111         -6   Clear   \n",
       "3  2015-09-25 23:00:00-05:00  40.027278 -105.256111         -6   Clear   \n",
       "4  2015-09-26 10:00:00-05:00  40.027278 -105.256111         -6   Clear   \n",
       "\n",
       "    ozone ozone_error  temperature temperature_error  dew_point    ...     \\\n",
       "0  287.11        None        67.27              None      41.72    ...      \n",
       "1  276.72        None        65.97              None      43.65    ...      \n",
       "2  263.95        None        63.46              None      41.04    ...      \n",
       "3  262.46        None        61.34              None      41.05    ...      \n",
       "4  248.03        None        60.14              None      39.87    ...      \n",
       "\n",
       "  wind_speed  wind_speed_error cloud_cover  cloud_cover_error wind_bearing  \\\n",
       "0       2.15              None        0.13               None           66   \n",
       "1       2.05              None        0.07               None          269   \n",
       "2       0.89              None        0.00               None          160   \n",
       "3       0.68              None        0.00               None          220   \n",
       "4       0.32              None        0.00               None           43   \n",
       "\n",
       "   precip_intensity precip_intensity_error  precip_probability precip_type  \\\n",
       "0               0.0                   None                 0.0        None   \n",
       "1               0.0                   None                 0.0        None   \n",
       "2               0.0                   None                 0.0        None   \n",
       "3               0.0                   None                 0.0        None   \n",
       "4               0.0                   None                 0.0        None   \n",
       "\n",
       "   Location  \n",
       "0   Boulder  \n",
       "1   Boulder  \n",
       "2   Boulder  \n",
       "3   Boulder  \n",
       "4   Boulder  \n",
       "\n",
       "[5 rows x 29 columns]"
      ]
     },
     "execution_count": 46,
     "metadata": {},
     "output_type": "execute_result"
    }
   ],
   "source": [
    "weather = weather.merge(locs[['latitude','Location']])\n",
    "weather.head()"
   ]
  },
  {
   "cell_type": "code",
   "execution_count": 47,
   "metadata": {},
   "outputs": [],
   "source": [
    "pk.dump( weather, open( \"data/weather.pkl\", \"wb\" ) )"
   ]
  }
 ],
 "metadata": {
  "kernelspec": {
   "display_name": "Python 3",
   "language": "python",
   "name": "python3"
  },
  "language_info": {
   "codemirror_mode": {
    "name": "ipython",
    "version": 3
   },
   "file_extension": ".py",
   "mimetype": "text/x-python",
   "name": "python",
   "nbconvert_exporter": "python",
   "pygments_lexer": "ipython3",
   "version": "3.6.7"
  }
 },
 "nbformat": 4,
 "nbformat_minor": 1
}
